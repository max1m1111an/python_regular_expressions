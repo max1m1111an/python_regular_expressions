{
 "cells": [
  {
   "cell_type": "markdown",
   "source": [
    "# Лекция. Регулярные выражения"
   ],
   "metadata": {
    "collapsed": false
   }
  },
  {
   "cell_type": "markdown",
   "source": [
    "### Язык регулярных выражений"
   ],
   "metadata": {
    "collapsed": false
   }
  },
  {
   "cell_type": "markdown",
   "source": [
    "Регулярные выражения - последовательность символов и метасимволов, используемых для поиcка искомой последовательности - паттерна (pattern) в строке."
   ],
   "metadata": {
    "collapsed": false
   }
  },
  {
   "cell_type": "markdown",
   "source": [
    "Язык регулярных выражений - формальный язык поиска, используемый для составления регулярных выражений."
   ],
   "metadata": {
    "collapsed": false
   }
  },
  {
   "cell_type": "markdown",
   "source": [
    "В языке Python  регулярные выражения и работа с ними представлена модулем re."
   ],
   "metadata": {
    "collapsed": false
   }
  },
  {
   "cell_type": "markdown",
   "source": [
    "### Краткий пример использования регулярных выражений"
   ],
   "metadata": {
    "collapsed": false
   }
  },
  {
   "cell_type": "code",
   "execution_count": null,
   "outputs": [],
   "source": [
    "import re\n",
    "\n",
    "pattern = r\"\\b[o]\\w+\"  # все слова, начинающиеся на o\n",
    "\n",
    "string = \"And blood-black nothingness began to spin a system of cells interlinked within, cells interlinked within, \" \\\n",
    "         \"cells interlinked within one stem. \"\n",
    "print(re.findall(pattern, string))"
   ],
   "metadata": {
    "collapsed": false,
    "pycharm": {
     "name": "#%%\n"
    }
   }
  },
  {
   "cell_type": "markdown",
   "source": [
    "Как легко заметить - язык регулярных выражений довольно сложен. Далее рассмотрим подробно синтаксис составления шаблонов поиска и наиболее часто используемые методы модуля re."
   ],
   "metadata": {
    "collapsed": false
   }
  },
  {
   "cell_type": "markdown",
   "source": [
    "Официальную документацию можно найти здесь:\n",
    "\n",
    "https://docs.python.org/3/library/re.html\n",
    "\n",
    "https://github.com/python/cpython/blob/3.9/Lib/re.py"
   ],
   "metadata": {
    "collapsed": false
   }
  },
  {
   "cell_type": "markdown",
   "source": [
    "### Синтаксис составления шаблона поиска (pattern) для re"
   ],
   "metadata": {
    "collapsed": false
   }
  },
  {
   "cell_type": "markdown",
   "source": [
    "#### Специальные символы"
   ],
   "metadata": {
    "collapsed": false
   }
  },
  {
   "cell_type": "markdown",
   "source": [
    "`.` - по умолчанию соответствует любому символу, за исключением начала новой строки.\n",
    "\n",
    "`^` - соответствует началу строки.\n",
    "\n",
    "`$` - соответствует концу строки.\n",
    "\n",
    "`*` - соответствует 0 или более повторений предшествующего регулярного выражения (regex)."
   ],
   "metadata": {
    "collapsed": false
   }
  },
  {
   "cell_type": "code",
   "execution_count": null,
   "outputs": [],
   "source": [
    "print(re.findall(r'.a..a', \" alfa, beta, gamma, delta \"))\n",
    "print(re.findall(r'^a..a', \"alfa, beta, gamma, delta\"))\n",
    "print(re.findall(r' .*a$', \"alfa, beta, gamma, delta\"))"
   ],
   "metadata": {
    "collapsed": false,
    "pycharm": {
     "name": "#%%\n"
    }
   }
  },
  {
   "cell_type": "markdown",
   "source": [
    "`+` - соответствует 1 или более повторений предшествующего regex.\n",
    "\n",
    "`?` - соответствует 0 или 1 повторению предыдущего регулярного выражения. Например, `r'ab?'` будет соответствовать либо «a», либо «ab»."
   ],
   "metadata": {
    "collapsed": false
   }
  },
  {
   "cell_type": "code",
   "execution_count": null,
   "outputs": [],
   "source": [
    "print(re.findall(r'\\d?1+', \"11 121 2211 21 333 341 345\"))\n",
    "# число состоящее из любой первой цифры и далее произовльного числа '1'"
   ],
   "metadata": {
    "collapsed": false,
    "pycharm": {
     "name": "#%%\n"
    }
   }
  },
  {
   "cell_type": "markdown",
   "source": [
    "`{м}` - указывает, что должно быть сопоставлено ровно m копий предыдущего regex; меньшее количество совпадений приводит к несоответствию всего RE. Например, `a{6}` будет соответствовать точно шести символам \"a\", но не пяти.\n",
    "\n",
    "`{м, n}` - указывает, что должно быть сопоставлено от m до n копий regex."
   ],
   "metadata": {
    "collapsed": false
   }
  },
  {
   "cell_type": "code",
   "execution_count": null,
   "outputs": [],
   "source": [
    "print(re.findall(r'[a, b]{2,3}\\s', \" ac abcaa aaa abcba aa ccc a\")) # последовательности символов 'a' и 'b' длинны 2-3"
   ],
   "metadata": {
    "collapsed": false,
    "pycharm": {
     "name": "#%%\n"
    }
   }
  },
  {
   "cell_type": "markdown",
   "source": [
    "`\\` - либо экранирует специальные символы (позволяя вам сопоставлять символы, такие как `*`, `?` и т.д.), либо сигнализирует о специальной последовательности.\n",
    "\n",
    "`[]` - используется для обозначения последовательности символов. Пример:"
   ],
   "metadata": {
    "collapsed": false
   }
  },
  {
   "cell_type": "code",
   "execution_count": null,
   "outputs": [],
   "source": [
    "print(re.findall(r'[bc]+', 'abbbbcebbbcccqbcgbcbc')) # последовательности, содержащие только произвольное число 'b' и 'c'\n",
    "\n",
    "data = '''\n",
    "office              +7-985-1102233\n",
    "manager             +7-900-1231212\n",
    "CEO                 +7-900-1231213\n",
    "additional          +7-900-1231214\n",
    "control centre      +7-921-7009843\n",
    "'''\n",
    "print(re.findall(r'\\+[0-9]{1}-[0-9]{3}-[0-9]{7}', data)) # все номера телефонов из текста"
   ],
   "metadata": {
    "collapsed": false,
    "pycharm": {
     "name": "#%%\n"
    }
   }
  },
  {
   "cell_type": "markdown",
   "source": [
    "`A | B` - где A и B могут быть произвольными regex, создает регулярное выражение, которое будет соответствовать либо A, либо B. Произвольное количество regex может быть разделено знаком `|` этим способом.\n",
    "\n",
    "`(...)` - соответствует любому regex внутри круглых скобок и указывает начало и конец группы. Сами группы можно нумеровать как `\\1`, `\\2` и т.д.\n",
    "\n",
    "Для более подробной информации о работе с группами см.: https://docs.python.org/3/library/re.html"
   ],
   "metadata": {
    "collapsed": false
   }
  },
  {
   "cell_type": "markdown",
   "source": [
    "#### Задание 1:"
   ],
   "metadata": {
    "collapsed": false
   }
  },
  {
   "cell_type": "markdown",
   "source": [
    "Напишите паттерн, соответствующий ISBN-13. ISBN-13 это номер, состоящий из 13 цифр, где 3 первые отделены от 10 последующих дефисом. Гарантируется что в строке только один подходящий номер.\n",
    "Например: 123-1234567890"
   ],
   "metadata": {
    "collapsed": false
   }
  },
  {
   "cell_type": "code",
   "execution_count": null,
   "outputs": [],
   "source": [
    "text = \" 'The Fight Club' ID in database is 342-59o8834761 and ISBN is 120-5673912345 \"\n",
    "\n",
    "pattern = r'' # напишите паттерн\n",
    "\n",
    "\n",
    "print(re.search(pattern, text).group(0))"
   ],
   "metadata": {
    "collapsed": false,
    "pycharm": {
     "name": "#%%\n"
    }
   }
  },
  {
   "cell_type": "markdown",
   "source": [
    "#### Специальные последовательности символов"
   ],
   "metadata": {
    "collapsed": false
   }
  },
  {
   "cell_type": "markdown",
   "source": [
    "`\\number` - cоответствует содержимому группы с таким же номером. Группы нумеруются, начиная с 1. Например, (. +) \\ 1 соответствует 'the the' или '55 55 ', но не' thethe '(обратите внимание на пробел после группы).\n",
    "\n",
    "`\\A` - соответствует только началу строки.\n",
    "\n",
    "`\\b` - соответсвует пустой строке, но только в начале или в конце слова. Пример:"
   ],
   "metadata": {
    "collapsed": false
   }
  },
  {
   "cell_type": "code",
   "execution_count": null,
   "outputs": [],
   "source": [
    "print(re.findall(r'\\bfoo\\b', 'Foo foo barFoo foo bar fFoof', re.I)) # re.I - игнорировать регистр при поиске"
   ],
   "metadata": {
    "collapsed": false,
    "pycharm": {
     "name": "#%%\n"
    }
   }
  },
  {
   "cell_type": "markdown",
   "source": [
    "`\\B` - соответствует пустой строке, но только не в конце слова. Пример:"
   ],
   "metadata": {
    "collapsed": false
   }
  },
  {
   "cell_type": "code",
   "execution_count": null,
   "outputs": [],
   "source": [
    "print(re.findall(r'foo\\B', 'Foof barfoobar Foo bar ffoo', re.I)) # re.I - игнорировать регистр при поиске"
   ],
   "metadata": {
    "collapsed": false,
    "pycharm": {
     "name": "#%%\n"
    }
   }
  },
  {
   "cell_type": "markdown",
   "source": [
    "`\\d` - соответствует десятичным числам.\n",
    "\n",
    "`\\D` - соответствует любым символам, не являющимся десятичными символами (аналогично [^0-9])."
   ],
   "metadata": {
    "collapsed": false
   }
  },
  {
   "cell_type": "code",
   "execution_count": null,
   "outputs": [],
   "source": [
    "print(re.findall(r'\\d+', \"i choose numbers 19 and 11!\")) # последовательности только из цифр\n",
    "print(re.findall(r'\\D+', \"i choose numbers 19 and 11!\")) # все последовательности не из цифр"
   ],
   "metadata": {
    "collapsed": false,
    "pycharm": {
     "name": "#%%\n"
    }
   }
  },
  {
   "cell_type": "markdown",
   "source": [
    "`\\s` - соответствует пробельным символам.\n",
    "\n",
    "`\\S` - соответствует любым непробельным символам.\n",
    "\n",
    "`\\w` - соответствует словесному символу ([a-z, A-Z, 0-9])."
   ],
   "metadata": {
    "collapsed": false
   }
  },
  {
   "cell_type": "code",
   "execution_count": null,
   "outputs": [],
   "source": [
    "print(re.findall(r'\\w+', \"I see a red door and I want it painted black\")) # все последовательности словесных символов"
   ],
   "metadata": {
    "collapsed": false,
    "pycharm": {
     "name": "#%%\n"
    }
   }
  },
  {
   "cell_type": "markdown",
   "source": [
    "`\\W` - соответсвует любым не словесным символам, противоположный `\\w`.\n",
    "\n",
    "`\\Z` - соответствует концу строки."
   ],
   "metadata": {
    "collapsed": false
   }
  },
  {
   "cell_type": "markdown",
   "source": [
    "#### Задание 2:"
   ],
   "metadata": {
    "collapsed": false
   }
  },
  {
   "cell_type": "markdown",
   "source": [
    "Напишите паттерн, который соответствует доменному имени для http, https протоколов."
   ],
   "metadata": {
    "collapsed": false
   }
  },
  {
   "cell_type": "code",
   "execution_count": null,
   "outputs": [],
   "source": [
    "text = '''\n",
    "https://vk.com\n",
    "http://vk.com\n",
    "vk.com\n",
    "https://yandex.com\n",
    "http:/gmail.com\n",
    "https://wikipedia.org\n",
    "wikipedia.org\n",
    "http://vkcom\n",
    "https://hse.ru\n",
    "http://hse.ru\n",
    "http//hse.ru\n",
    "'''\n",
    "\n",
    "pattern = r' ' # напишите паттерн\n",
    "\n",
    "\n",
    "print(re.findall(pattern, text))"
   ],
   "metadata": {
    "collapsed": false,
    "pycharm": {
     "name": "#%%\n"
    }
   }
  },
  {
   "cell_type": "markdown",
   "source": [
    "#### Флаги"
   ],
   "metadata": {
    "collapsed": false
   }
  },
  {
   "cell_type": "markdown",
   "source": [
    "**A, ASCII** - выставляется чтобы `\\w`, `\\W`, `\\b`, `\\B`, `\\d`, `\\D`, `\\s` и `\\S` выполняли сопоставление только согласно ASCII вместо полного сопоставления по Unicode.\n",
    "\n",
    "**U, UNICODE** - установлен по умолчанию, устарел, используется для обратной совместимости. Аналогичен предыдущему.\n",
    "\n",
    "**I, IGNORECASE** - сделает выполнение сопоставления без учета регистра.\n",
    "\n",
    "**L, LOCALE** - сделает соответствие `\\w`, `\\W`, `\\b`, `\\B` и нечувствительность к регистру зависимыми от текущей локали.\n",
    "\n",
    "**M, MULTILINE** - если выставлен, символ шаблона `^` соответствует началу строки и началу каждой строки (сразу после каждой новой строки); а символ шаблона `$` соответствует концу строки и концу каждой строки (непосредственно перед каждой новой строкой). По умолчанию `^` соответствует только началу строки, а `$` только концу строки и непосредственно перед новой строкой (если есть) в конце строки. Пример:"
   ],
   "metadata": {
    "collapsed": false
   }
  },
  {
   "cell_type": "code",
   "execution_count": null,
   "outputs": [],
   "source": [
    "text = '''So, take me back to Constantinople\n",
    "No, you can't go back to Constantinople\n",
    "Been a long time gone, Constantinople\n",
    "Why did Constantinople get the works?\n",
    "That's nobody's business but the Turks\n",
    "'''\n",
    "\n",
    "pattern = r'^\\w+' # слово из словесных символов в начале строки\n",
    "\n",
    "print(re.findall(pattern, text)) # найдет только слово из 1й строки, так как для остальных символ '^' не переопределен\n",
    "print(re.findall(pattern, text, re.MULTILINE)) # найдет слово в начале всех строк"
   ],
   "metadata": {
    "collapsed": false,
    "pycharm": {
     "name": "#%%\n"
    }
   }
  },
  {
   "cell_type": "markdown",
   "source": [
    "**S, DOTALL** - сделает специальный символ `.` соответствующим любому символу, включая символ начала строки.\n",
    "\n",
    "**X, VERBOSE** - позволяет писать визуально понятные регулярные выражения, оставляя комментарии. Пример:"
   ],
   "metadata": {
    "collapsed": false
   }
  },
  {
   "cell_type": "code",
   "execution_count": null,
   "outputs": [],
   "source": [
    "a = re.compile(r'''\\d +  # the integral part\n",
    "                   \\.    # the decimal point\n",
    "                   \\d *  # some fractional digits''', re.X)\n",
    "b = re.compile(r\"\\d+\\.\\d*\")\n",
    "# a == b"
   ],
   "metadata": {
    "collapsed": false,
    "pycharm": {
     "name": "#%%\n"
    }
   }
  },
  {
   "cell_type": "markdown",
   "source": [
    "Можно комбинировать несколько флагов, записывая их через `|`. Пример:"
   ],
   "metadata": {
    "collapsed": false
   }
  },
  {
   "cell_type": "code",
   "execution_count": null,
   "outputs": [],
   "source": [
    "pattern = r\"i see a red door.*\"\n",
    "\n",
    "string = '''\n",
    "I see a red door and I want it painted black\n",
    "No colors anymore, I want them to turn black\n",
    "I see the girls walk by dressed in their summer clothes\n",
    "I have to turn my head until my darkness goes\n",
    "'''\n",
    "\n",
    "print(re.search(pattern, string)) # без group() так как None нельзя группировать, иначе придется ловить исключение\n",
    "print(re.search(pattern, string, re.IGNORECASE | re.DOTALL).group(0))\n",
    "# флаги: игнорировать регистр и `.` считается также и началом строки"
   ],
   "metadata": {
    "collapsed": false,
    "pycharm": {
     "name": "#%%\n"
    }
   }
  },
  {
   "cell_type": "markdown",
   "source": [
    "Значение параметра flags по умолчанию для всех методов равно 0, т.е. равносильно единственному выставленному по умолчанию флагу U, Unicode."
   ],
   "metadata": {
    "collapsed": false
   }
  },
  {
   "cell_type": "markdown",
   "source": [
    "#### Прекомпилированные паттерны"
   ],
   "metadata": {
    "collapsed": false
   }
  },
  {
   "cell_type": "markdown",
   "source": [
    "В модуле re присутствует возможность скомпилировать паттерн в regular expression object, что позволит экономить время выполнения программы, при неоднократном использовании данного паттерна, так как будет использоваться уже скомпилированный объект, без компиляции при вызове метода из re.\n",
    "\n",
    "Так как прекомпилированнные паттерны являются объектами типа regular expression object, это позволяет вызывать методы re от них, и не требуется ручная подстановка паттерна в методах в обязательный параметр `pattern`.\n",
    "\n",
    "Пример:"
   ],
   "metadata": {
    "collapsed": false
   }
  },
  {
   "cell_type": "code",
   "execution_count": null,
   "outputs": [],
   "source": [
    "pattern = re.compile('\\A[\\w]+', re.I) # слово, начинающееся с начала строки\n",
    "\n",
    "print(re.findall(pattern, \"Alfa beta gamma\"))\n",
    "\n",
    "print(pattern.findall(\"Alfa beta gamma\"))\n",
    "\n",
    "print(re.findall(pattern, \"Beta gamma delta\"))"
   ],
   "metadata": {
    "collapsed": false,
    "pycharm": {
     "name": "#%%\n"
    }
   }
  },
  {
   "cell_type": "markdown",
   "source": [
    "### Основные методы модуля re"
   ],
   "metadata": {
    "collapsed": false
   }
  },
  {
   "cell_type": "markdown",
   "source": [
    "**re.search(pattern, string, flags=0)** - сканирует строку до первого сопадения подстроки с паттерном, возвращает совпадение как match_object, иначе None."
   ],
   "metadata": {
    "collapsed": false
   }
  },
  {
   "cell_type": "code",
   "execution_count": null,
   "outputs": [],
   "source": [
    "text = \"Wise men speak because they have something to say; fools because they have to say something.\"\n",
    "\n",
    "match = re.search(r'they',text)\n",
    "\n",
    "print(match)\n",
    "print(match.group(0))\n",
    "print(match.start())\n",
    "print(match.end())"
   ],
   "metadata": {
    "collapsed": false,
    "pycharm": {
     "name": "#%%\n"
    }
   }
  },
  {
   "cell_type": "markdown",
   "source": [
    "#### Задание 3"
   ],
   "metadata": {
    "collapsed": false
   }
  },
  {
   "cell_type": "markdown",
   "source": [
    "Необходимо найти в тексте первый e-mail и вывести его."
   ],
   "metadata": {
    "collapsed": false
   }
  },
  {
   "cell_type": "code",
   "execution_count": null,
   "outputs": [],
   "source": [
    "# SMTP session sample\n",
    "text = \"\"\"\"\n",
    "S: (ожидает соединения)\n",
    "C: (Подключается к порту 25 сервера)\n",
    "S:220 mail.company.tld ESMTP is glad to see you!\n",
    "C:HELO\n",
    "S:250 domain name should be qualified\n",
    "C:MAIL FROM: <someusername@somecompany.ru>\n",
    "S:250 someusername@somecompany.ru sender accepted\n",
    "C:RCPT TO: <user1@company.tld>\n",
    "S:250 user1@company.tld ok\n",
    "C:RCPT TO: <user2@company.tld>\n",
    "S:550 user2@company.tld unknown user account\n",
    "C:DATA\n",
    "S:354 Enter mail, end with \".\" on a line by itself\n",
    "C:From: Some User <someusername@somecompany.ru>\n",
    "C:To: User1 <user1@company.tld>\n",
    "C:Subject: tema\n",
    "C:Content-Type: text/plain\n",
    "C:\n",
    "C:Hi!\n",
    "C:.\n",
    "S:250 769947 message accepted for delivery\n",
    "C:QUIT\n",
    "S:221 mail.company.tld CommuniGate Pro SMTP closing connection\n",
    "S: (закрывает соединение)\n",
    "\"\"\"\n",
    "\n",
    "print(re.search(r'', text).group(0))"
   ],
   "metadata": {
    "collapsed": false,
    "pycharm": {
     "name": "#%%\n"
    }
   }
  },
  {
   "cell_type": "markdown",
   "source": [
    "**re.match(pattern, string, flags=0)** - если ноль или более символов в начале строки соответствуют шаблону регулярного выражения, вернет соответствующий match_object, иначе None."
   ],
   "metadata": {
    "collapsed": false
   }
  },
  {
   "cell_type": "code",
   "execution_count": null,
   "outputs": [],
   "source": [
    "text = \"Success is the ability to go from failure to failure without losing your enthusiasm.\"\n",
    "\n",
    "match = re.match(r'Success', text)\n",
    "\n",
    "print(match)\n",
    "print(match.group(0))\n",
    "print(match.start())\n",
    "print(match.end())\n",
    "\n",
    "match = re.match(r'ability', text)\n",
    "\n",
    "print(match) #методы mathc_object приведут к ошибке, т.к. возвоащается None"
   ],
   "metadata": {
    "collapsed": false,
    "pycharm": {
     "name": "#%%\n"
    }
   }
  },
  {
   "cell_type": "markdown",
   "source": [
    "**re.fullmatch(pattern, string, flags=0)** - если вся строка строка соответствует шаблону регулярного выражения, вернет соответствующий match_object, иначе None."
   ],
   "metadata": {
    "collapsed": false
   }
  },
  {
   "cell_type": "code",
   "execution_count": null,
   "outputs": [],
   "source": [
    "text = \"Success is the ability to go from failure to failure without losing your enthusiasm.\"\n",
    "\n",
    "match = re.fullmatch(r'Success', text)\n",
    "\n",
    "print(match) # возвращает None\n",
    "\n",
    "match = re.fullmatch(text, text)\n",
    "\n",
    "print(match)\n",
    "print(match.group(0))\n",
    "print(match.start())\n",
    "print(match.end())"
   ],
   "metadata": {
    "collapsed": false,
    "pycharm": {
     "name": "#%%\n"
    }
   }
  },
  {
   "cell_type": "markdown",
   "source": [
    "**re.split(pattern, string, maxsplit=0, flags=0)** - разделяет строку по экземплярам шаблона. Если в шаблоне используются захватывающие круглые скобки, то текст всех групп в шаблоне также возвращается как часть результирующего списка. Если maxsplit отличен от нуля, происходит не более maxsplit разбиений, а остаток строки возвращается как последний элемент списка."
   ],
   "metadata": {
    "collapsed": false
   }
  },
  {
   "cell_type": "code",
   "execution_count": null,
   "outputs": [],
   "source": [
    "print(re.split(r'\\W+', 'Words, words, words.'))"
   ],
   "metadata": {
    "collapsed": false,
    "pycharm": {
     "name": "#%%\n"
    }
   }
  },
  {
   "cell_type": "markdown",
   "source": [
    "**re.findall(pattern, string, flags=0)** - Возвращает все неперекрывающиеся совпадения шаблона в строке в виде списка строк. Строка просматривается слева направо, и совпадения возвращаются в найденном порядке. Если в шаблоне присутствует одна или несколько групп, вернет список групп; это будет список кортежей, если в шаблоне более одной группы. В результат включаются пустые совпадения."
   ],
   "metadata": {
    "collapsed": false
   }
  },
  {
   "cell_type": "code",
   "execution_count": null,
   "outputs": [],
   "source": [
    "text = \"We buy things we don't need, to impress people we don't like.\"\n",
    "\n",
    "print(re.findall(r'we\\s', text, re.I))"
   ],
   "metadata": {
    "collapsed": false,
    "pycharm": {
     "name": "#%%\n"
    }
   }
  },
  {
   "cell_type": "markdown",
   "source": [
    "**re.finditer(pattern, string, flags=0)** - возвращает итератор на объекты соответствия по всем неперекрывающимся совпадениям для шаблона regex в строке. Строка просматривается слева направо, и совпадения возвращаются в найденном порядке. В результат включаются пустые совпадения."
   ],
   "metadata": {
    "collapsed": false
   }
  },
  {
   "cell_type": "code",
   "execution_count": null,
   "outputs": [],
   "source": [
    "data = '''\n",
    "Port | State\n",
    "22      open\n",
    "80      open\n",
    "443     closed\n",
    "5431    filtered\n",
    "'''\n",
    "for match in re.finditer(r'\\d+\\s+\\w+', data):\n",
    "    print(match.group(0))"
   ],
   "metadata": {
    "collapsed": false,
    "pycharm": {
     "name": "#%%\n"
    }
   }
  },
  {
   "cell_type": "markdown",
   "source": [
    "**re.sub(pattern, repl, string, count=0, flags=0)** - возвращает строку, полученную заменой крайних левых неперекрывающихся вхождений шаблона в строке заменой repl. Если шаблон не найден, строка возвращается без изменений. repl может быть строкой или функцией; если это строка, то обрабатываются любые escape-символы в ней."
   ],
   "metadata": {
    "collapsed": false
   }
  },
  {
   "cell_type": "code",
   "execution_count": null,
   "outputs": [],
   "source": [
    "text = \"  This    text        has to   much      whitespaces!    \"\n",
    "\n",
    "result = re.sub(r'\\s+', ' ', text) # заменим все пробельные последовательности на единичный пробел\n",
    "\n",
    "print(result)"
   ],
   "metadata": {
    "collapsed": false,
    "pycharm": {
     "name": "#%%\n"
    }
   }
  },
  {
   "cell_type": "markdown",
   "source": [
    "#### Задание 4"
   ],
   "metadata": {
    "collapsed": false
   }
  },
  {
   "cell_type": "markdown",
   "source": [
    "Необходимо удалить из строки все повторяющиеся слова используя методы re, и вывести его. Подсказака: обратие внимание, на возможность переиспользования уже написанного синтаксиса regex как группы и на метод re.sub()"
   ],
   "metadata": {
    "collapsed": false
   }
  },
  {
   "cell_type": "code",
   "execution_count": null,
   "outputs": [],
   "source": [
    "text = \" This This text text text is repeated repeated many times times times times \""
   ],
   "metadata": {
    "collapsed": false,
    "pycharm": {
     "name": "#%%\n"
    }
   }
  }
 ],
 "metadata": {
  "kernelspec": {
   "display_name": "PyCharm (python_regular_expressions)",
   "language": "python",
   "name": "pycharm-2be2742"
  },
  "language_info": {
   "codemirror_mode": {
    "name": "ipython",
    "version": 3
   },
   "file_extension": ".py",
   "mimetype": "text/x-python",
   "name": "python",
   "nbconvert_exporter": "python",
   "pygments_lexer": "ipython3",
   "version": "3.8.5"
  }
 },
 "nbformat": 4,
 "nbformat_minor": 1
}