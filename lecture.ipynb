{
 "cells": [
  {
   "cell_type": "markdown",
   "source": [
    "# Лекция. Регулярные выражения"
   ],
   "metadata": {
    "collapsed": false
   }
  },
  {
   "cell_type": "markdown",
   "source": [
    "### Язык регулярных выражений"
   ],
   "metadata": {
    "collapsed": false
   }
  },
  {
   "cell_type": "markdown",
   "source": [
    "Регулярные выражения - последовательность символов и метасимволов, используемых для поиcка искомой последовательности - паттерна (pattern) в строке."
   ],
   "metadata": {
    "collapsed": false
   }
  },
  {
   "cell_type": "markdown",
   "source": [
    "Язык регулярных выражений - формальный язык поиска, используемый для составления регулярных выражений."
   ],
   "metadata": {
    "collapsed": false
   }
  },
  {
   "cell_type": "markdown",
   "source": [
    "В языке Python  регулярные выражения и работа с ними представлена модулем re."
   ],
   "metadata": {
    "collapsed": false
   }
  },
  {
   "cell_type": "markdown",
   "source": [
    "### Краткий пример использования регулярных выражений"
   ],
   "metadata": {
    "collapsed": false
   }
  },
  {
   "cell_type": "code",
   "execution_count": null,
   "outputs": [],
   "source": [
    "import re\n",
    "\n",
    "pattern = r\"\\b[o]\\w+\"  # все слова, начинающиеся на o\n",
    "\n",
    "string = \"And blood-black nothingness began to spin a system of cells interlinked within, cells interlinked within, \" \\\n",
    "         \"cells interlinked within one stem. \"\n",
    "print(re.findall(pattern, string))"
   ],
   "metadata": {
    "collapsed": false,
    "pycharm": {
     "name": "#%%\n"
    }
   }
  },
  {
   "cell_type": "markdown",
   "source": [
    "Как легко заметить - язык регулярных выражений довольно сложен. Далее рассмотрим подробно синтаксис составления шаблонов поиска и наиболее часто используемые методы модуля re."
   ],
   "metadata": {
    "collapsed": false
   }
  },
  {
   "cell_type": "markdown",
   "source": [
    "Официальную документацию можно найти здесь:\n",
    "\n",
    "https://docs.python.org/3/library/re.html\n",
    "\n",
    "https://github.com/python/cpython/blob/3.9/Lib/re.py"
   ],
   "metadata": {
    "collapsed": false
   }
  },
  {
   "cell_type": "markdown",
   "source": [
    "### Синтаксис составления шаблона поиска (pattern) для re"
   ],
   "metadata": {
    "collapsed": false
   }
  },
  {
   "cell_type": "markdown",
   "source": [
    "#### Специальные символы"
   ],
   "metadata": {
    "collapsed": false
   }
  },
  {
   "cell_type": "markdown",
   "source": [
    "'.' - по умолчанию соответствует любому символу, за исключением начала новой строки.\n",
    "\n",
    "'^' - соответствует началу строки.\n",
    "\n",
    "'\\\\$' - соответствует концу строки.\n",
    "\n",
    "'*' - соответствует 0 или более повторений предшествующего регулярного выражения (regex).\n",
    "\n",
    "'+' - соответствует 1 или более повторений предшествующего regex.\n",
    "\n",
    "'?' - соответствует 0 или 1 повторению предыдущего регулярного выражения. Например, r'ab?' будет соответствовать либо «a», либо «ab».\n",
    "\n",
    "'{м}' - указывает, что должно быть сопоставлено ровно m копий предыдущего regex; меньшее количество совпадений приводит к несоответствию всего RE. Например, 'a{6}' будет соответствовать точно шести символам \"a\", но не пяти.\n",
    "\n",
    "'{м, n}' - указывает, что должно быть сопоставлено от m до n копий regex.\n",
    "\n",
    "'\\' - либо экранирует специальные символы (позволяя вам сопоставлять символы, такие как '*', '?' и т.д.), либо сигнализирует о специальной последовательности.\n",
    "\n",
    "'[]' - используется для обозначения последовательности символов. Пример:"
   ],
   "metadata": {
    "collapsed": false
   }
  },
  {
   "cell_type": "code",
   "execution_count": null,
   "outputs": [],
   "source": [
    "print(re.findall(r'[bc]+', 'abbbbcebbbcccqbcgbcbc')) # последовательности, содержащие только произвольное число 'b' и 'c'"
   ],
   "metadata": {
    "collapsed": false,
    "pycharm": {
     "name": "#%%\n"
    }
   }
  },
  {
   "cell_type": "markdown",
   "source": [
    "'A | B' - где A и B могут быть произвольными regex, создает регулярное выражение, которое будет соответствовать либо A, либо B. Произвольное количество regex может быть разделено знаком '|' этим способом.\n",
    "\n",
    "'(...)' - соответствует любому regex внутри круглых скобок и указывает начало и конец группы.\n",
    "\n",
    "Для более подробной информации о работе с группами см.: https://docs.python.org/3/library/re.html"
   ],
   "metadata": {
    "collapsed": false
   }
  },
  {
   "cell_type": "markdown",
   "source": [
    "#### Специальные последовательности символов"
   ],
   "metadata": {
    "collapsed": false
   }
  },
  {
   "cell_type": "markdown",
   "source": [
    "'\\number' - cоответствует содержимому группы с таким же номером. Группы нумеруются, начиная с 1. Например, (. +) \\ 1 соответствует 'the the' или '55 55 ', но не' thethe '(обратите внимание на пробел после группы).\n",
    "\n",
    "'\\A' - соответствует только началу строки.\n",
    "\n",
    "'\\b' - соответсвует пустой строке, но только в начале или в конце слова. Пример:"
   ],
   "metadata": {
    "collapsed": false
   }
  },
  {
   "cell_type": "code",
   "execution_count": null,
   "outputs": [],
   "source": [
    "print(re.findall(r'\\bfoo\\b', 'Foo foo barFoo foo bar fFoof', re.I)) # re.I - игнорировать регистр при поиске"
   ],
   "metadata": {
    "collapsed": false,
    "pycharm": {
     "name": "#%%\n"
    }
   }
  },
  {
   "cell_type": "markdown",
   "source": [
    "'\\B' - соответствует пустой строке, но только не в конце слова. Пример:"
   ],
   "metadata": {
    "collapsed": false
   }
  },
  {
   "cell_type": "code",
   "execution_count": null,
   "outputs": [],
   "source": [
    "print(re.findall(r'foo\\B', 'Foof barfoobar Foo bar ffoo', re.I)) # re.I - игнорировать регистр при поиске"
   ],
   "metadata": {
    "collapsed": false,
    "pycharm": {
     "name": "#%%\n"
    }
   }
  },
  {
   "cell_type": "markdown",
   "source": [
    "'\\d' - соответствует десятичным числам.\n",
    "\n",
    "'\\D' - соответствует любым символам, не являющимся десятичными символами (аналогично [^0-9]).\n",
    "\n",
    "'\\s' - соответствует пробельным символам.\n",
    "\n",
    "'\\S' - соответствует любым непробельным символам.\n",
    "\n",
    "'\\w' - соответствует словесному символу ([a-z, A-Z, 0-9]).\n",
    "\n",
    "'\\W' - соответсвует любым не словесным символам, противоположный '\\w'.\n",
    "\n",
    "'\\Z' - соответствует концу строки."
   ],
   "metadata": {
    "collapsed": false
   }
  },
  {
   "cell_type": "markdown",
   "source": [
    "#### Флаги"
   ],
   "metadata": {
    "collapsed": false
   }
  },
  {
   "cell_type": "markdown",
   "source": [
    "A, ASCII - выставляется чтобы \\ w, \\ W, \\ b, \\ B, \\ d, \\ D, \\ s и \\ S выполняли сопоставление только согласно ASCII вместо полного сопоставления по Unicode.\n",
    "\n",
    "U, UNICODE - установлен по умолчанию, устарел, используется для обратной совместимости. Аналогичен предыдущему.\n",
    "\n",
    "I, IGNORECASE - сделает выполнение сопоставление без учета регистра.\n",
    "\n",
    "L, LOCALE - сделает соответствие \\ w, \\ W, \\ b, \\ B и нечувствительность к регистру зависимыми от текущей локали.\n",
    "\n",
    "M, MULTILINE - если выставлен, символ шаблона '^' соответствует началу строки и началу каждой строки (сразу после каждой новой строки); а символ шаблона '\\\\$' соответствует в конце строки и в конце каждой строки (непосредственно перед каждой новой строкой). По умолчанию '^' соответствует только началу строки, а '\\\\$' только в конце строки и непосредственно перед новой строкой (если есть) в конце строки.\n",
    "\n",
    "S, DOTALL - сделает специальный символ '.' соответствующим любому символу, включая символ начала строки.\n",
    "\n",
    "X, VERBOSE - позволяет писать визуально понятные регулярные выражения, оставляя комментарии. Пример:"
   ],
   "metadata": {
    "collapsed": false
   }
  },
  {
   "cell_type": "code",
   "execution_count": null,
   "outputs": [],
   "source": [
    "a = re.compile(r'''\\d +  # the integral part\n",
    "                   \\.    # the decimal point\n",
    "                   \\d *  # some fractional digits''', re.X)\n",
    "b = re.compile(r\"\\d+\\.\\d*\")\n",
    "# a == b"
   ],
   "metadata": {
    "collapsed": false,
    "pycharm": {
     "name": "#%%\n"
    }
   }
  },
  {
   "cell_type": "markdown",
   "source": [
    "Можно комбинировать несколько флагов, записывая их через '|'. Пример:"
   ],
   "metadata": {
    "collapsed": false
   }
  },
  {
   "cell_type": "code",
   "execution_count": null,
   "outputs": [],
   "source": [
    "pattern = r\"i see a red door.*\"\n",
    "\n",
    "string = '''\n",
    "I see a red door and I want it painted black\n",
    "No colors anymore, I want them to turn black\n",
    "I see the girls walk by dressed in their summer clothes\n",
    "I have to turn my head until my darkness goes\n",
    "'''\n",
    "\n",
    "print(re.search(pattern, string)) # без group() так как None нельзя группировать, иначе придется ловить исключение\n",
    "print(re.search(pattern, string, re.IGNORECASE | re.DOTALL).group(0)) # игнорировать регистр & '.' считается и началом строки"
   ],
   "metadata": {
    "collapsed": false,
    "pycharm": {
     "name": "#%%\n"
    }
   }
  },
  {
   "cell_type": "markdown",
   "source": [
    "### Основные методы модуля re"
   ],
   "metadata": {
    "collapsed": false
   }
  },
  {
   "cell_type": "code",
   "execution_count": null,
   "outputs": [],
   "source": [],
   "metadata": {
    "collapsed": false,
    "pycharm": {
     "name": "#%%\n"
    }
   }
  }
 ],
 "metadata": {
  "kernelspec": {
   "display_name": "PyCharm (python_regular_expressions)",
   "language": "python",
   "name": "pycharm-2be2742"
  },
  "language_info": {
   "codemirror_mode": {
    "name": "ipython",
    "version": 3
   },
   "file_extension": ".py",
   "mimetype": "text/x-python",
   "name": "python",
   "nbconvert_exporter": "python",
   "pygments_lexer": "ipython3",
   "version": "3.8.5"
  }
 },
 "nbformat": 4,
 "nbformat_minor": 1
}